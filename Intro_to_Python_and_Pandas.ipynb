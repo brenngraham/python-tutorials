{
  "nbformat": 4,
  "nbformat_minor": 0,
  "metadata": {
    "colab": {
      "provenance": [],
      "authorship_tag": "ABX9TyNeZ0dJY0lImj1q1HDjWmWp",
      "include_colab_link": true
    },
    "kernelspec": {
      "name": "python3",
      "display_name": "Python 3"
    },
    "language_info": {
      "name": "python"
    }
  },
  "cells": [
    {
      "cell_type": "markdown",
      "metadata": {
        "id": "view-in-github",
        "colab_type": "text"
      },
      "source": [
        "<a href=\"https://colab.research.google.com/github/brenngraham/python-tutorials/blob/main/Intro_to_Python_and_Pandas.ipynb\" target=\"_parent\"><img src=\"https://colab.research.google.com/assets/colab-badge.svg\" alt=\"Open In Colab\"/></a>"
      ]
    },
    {
      "cell_type": "markdown",
      "source": [
        "# Intro to Python\n",
        "If you are interested in learning a programming language, Python is one of the best options since it is highly flexible, relatively easily readable, and extensively used in industry/government/academia.\n",
        "\n",
        "If you're going to be using Python extensively, you should probably set up an IDE (Integrated Development Environment) on your computer. I would recommend [PyCharm](https://www.jetbrains.com/help/pycharm/installation-guide.html) as a good free option.\n",
        "\n",
        "But, for the purposes of the Economics Society ML tutorial, we'll be doing all of the coding in the free version of Google Colab.\n",
        "\n",
        "In Colab there are two kinds of cells:\n",
        "- text cells (like this one)\n",
        "- code cells (like the one below)\n",
        "\n",
        "**To get started, let's write a simple \"Hello World\" program:**"
      ],
      "metadata": {
        "id": "wMMT8GYc79yB"
      }
    },
    {
      "cell_type": "code",
      "source": [
        "# Script begins\n",
        "\n",
        "print(\"Hello World!\")"
      ],
      "metadata": {
        "colab": {
          "base_uri": "https://localhost:8080/"
        },
        "id": "UEaxb7909M2m",
        "outputId": "0b36c708-990c-4827-8ffa-984b98e86098"
      },
      "execution_count": null,
      "outputs": [
        {
          "output_type": "stream",
          "name": "stdout",
          "text": [
            "Hello World!\n"
          ]
        }
      ]
    },
    {
      "cell_type": "markdown",
      "source": [
        "So, in the program above, the first line is a comment. All comments in Python start with a \"#\" and are not executed by the computer. They are a way for programmers to leave notes in their code to explain what's going on, what they need to work on in the future, and so on.\n",
        "\n",
        "The second line is a print statement, which (just as the name implies) prints out something to the user. In this case, we are printing out a string (which is a kind of data in Python made of a series of characters).\n",
        "\n",
        "**Now, let's look at how variables work:**"
      ],
      "metadata": {
        "id": "siOY2iuc9Sof"
      }
    },
    {
      "cell_type": "code",
      "source": [
        "# Declare/initialize a variable to hold an integer (int)\n",
        "x = 2\n",
        "# Print the variable out to the user\n",
        "print(x)\n",
        "\n",
        "# Declare/initialize a variable to hold a decimal (double)\n",
        "y = 5.1\n",
        "# Print the variable out to the user\n",
        "print(y)\n",
        "\n",
        "# Declare/initialize a variable to hold a string (str)\n",
        "myString = \"helloworld\"\n",
        "print(myString)"
      ],
      "metadata": {
        "colab": {
          "base_uri": "https://localhost:8080/"
        },
        "id": "qjDWWola-dDN",
        "outputId": "28dfe129-b2f3-42c1-b0f0-648b0107968a"
      },
      "execution_count": null,
      "outputs": [
        {
          "output_type": "stream",
          "name": "stdout",
          "text": [
            "2\n",
            "5.1\n",
            "helloworld\n"
          ]
        }
      ]
    },
    {
      "cell_type": "markdown",
      "source": [
        "A varaible is basically just a way that you can store and assign a name to a value in your program. They come in a bunch of varieties, including some more complicated kinds called data structures. But, the three most important for you to know are integers, doubles, and strings.\n",
        "- **Integer:** Also abbreviated as an \"int\" an integer in programming is defined the same way as it is in math. It is a number which can be expressed without a fraction and can be positive, negative, or zero.\n",
        "- **Double:** These basically correspond to decimals in math. They are numbers which can be represented as a fraction and can be positive, negative, or zero. (Note: these variables cannot hold an infinite number of digits - so infinitely repeating numbers, very large numbers, and very small numbers may not be represented with perfect accuracy)\n",
        "- **String:** A string is made up of a sequence of characters, which can include letters, numbers, symbols, and spaces. It is usually denoted by quotation marks.\n",
        "\n",
        "One of the (usually) nice parts of Python is that it automatically detects what type your variables should be, so you don't need to explicitly specify the type.\n",
        "\n",
        "You can also perform mathematical operations on the numeric variables, as shown below."
      ],
      "metadata": {
        "id": "0J-xiGTb_DFf"
      }
    },
    {
      "cell_type": "code",
      "source": [
        "# An example of division in Python\n",
        "x = 4\n",
        "y = 12\n",
        "z = 12/4\n",
        "print(z)"
      ],
      "metadata": {
        "colab": {
          "base_uri": "https://localhost:8080/"
        },
        "id": "naEzmJkvH8j7",
        "outputId": "fcfb317f-1ee6-4cee-a82d-4a51a274db2a"
      },
      "execution_count": null,
      "outputs": [
        {
          "output_type": "stream",
          "name": "stdout",
          "text": [
            "3.0\n"
          ]
        }
      ]
    },
    {
      "cell_type": "markdown",
      "source": [
        "**But sometimes, you want to get values from the user which you don't know in advance.**\n",
        "\n",
        "In that case, you need to collect input from the user."
      ],
      "metadata": {
        "id": "DgtiLP4iIG9Z"
      }
    },
    {
      "cell_type": "code",
      "source": [
        "# Prompt the user for input and store the result in the variable name\n",
        "name = input(\"Enter your name: \")\n",
        "\n",
        "# Greet the user\n",
        "print(\"Hello \", name)"
      ],
      "metadata": {
        "colab": {
          "base_uri": "https://localhost:8080/"
        },
        "id": "K5vLqpcJIUJE",
        "outputId": "51a63a41-39cc-44af-c947-365b98044c91"
      },
      "execution_count": null,
      "outputs": [
        {
          "output_type": "stream",
          "name": "stdout",
          "text": [
            "Enter your name: Bob\n",
            "Hello  Bob\n"
          ]
        }
      ]
    },
    {
      "cell_type": "markdown",
      "source": [
        "**How about if you need the program to do different things depending on what the values are?**\n",
        "\n",
        "This is called \"conditional logic\"."
      ],
      "metadata": {
        "id": "buubikW7Irj6"
      }
    },
    {
      "cell_type": "code",
      "source": [
        "# Initialize the variable\n",
        "num1 = int(input(\"Enter a number: \"))\n",
        "\n",
        "# Check if the number is greater than 12\n",
        "if(num1>50):\n",
        "  print(\"Num1 is big\")\n",
        "# Check if the number is greater than 35\n",
        "elif(num1>35):\n",
        "  print(\"Num1 is medium\")\n",
        "# If none of the previous conditions were true, do this\n",
        "else:\n",
        "  print(\"Num1 is small\")"
      ],
      "metadata": {
        "colab": {
          "base_uri": "https://localhost:8080/"
        },
        "id": "Cd4y7kscIyJk",
        "outputId": "63c148b5-b458-4020-ae0d-f59d431b6fb1"
      },
      "execution_count": null,
      "outputs": [
        {
          "output_type": "stream",
          "name": "stdout",
          "text": [
            "Enter a number: 2\n",
            "Num1 is small\n"
          ]
        }
      ]
    },
    {
      "cell_type": "markdown",
      "source": [
        "There are two basic types of conditional statements:\n",
        "- **If:** The code within an if statement (indicated by the level of indentation) is executed if and only if the condition is true.\n",
        "- **elif (else if):** The code within an elif statement is executed if the condition for that statement is true and all previous conditions were false.\n",
        "- **else:** The code within an else statement is executed if all of the previous conditions were false."
      ],
      "metadata": {
        "id": "nfqqgvdzJe7C"
      }
    },
    {
      "cell_type": "markdown",
      "source": [
        "**How exactly do those relational operators work?**\n",
        "\n",
        "There are a variety of relational operators you can use in Python, most of which you are probably already familiar with from math.\n",
        "\n",
        "All of these statements compare the relative value of numbers and return true or false."
      ],
      "metadata": {
        "id": "YqijNx3h_jdL"
      }
    },
    {
      "cell_type": "code",
      "source": [
        "a = 10\n",
        "b = 20\n",
        "\n",
        "# Less than: returns true if a is less than b, false otherwise.\n",
        "print(a < b)\n",
        "\n",
        "# Greater than: returns true if a is greater than b, false otherwise\n",
        "print(a > b)\n",
        "\n",
        "# Equal to: returns true if a is equal to b, false otherwise\n",
        "print(a == b)\n",
        "\n",
        "# Less than or equal to: returns true if a is less than or equal to b, false\n",
        "# otherwise\n",
        "print(a <= b)\n",
        "\n",
        "# Greater than or equal to: returns true if a is greater than or equal to b,\n",
        "# false otherwise\n",
        "print(a >= b)\n",
        "\n",
        "# Not equal to: returns true if a is not equal to b, false otherwise\n",
        "print(a != b)"
      ],
      "metadata": {
        "id": "wnQsvjBR_ywp",
        "colab": {
          "base_uri": "https://localhost:8080/"
        },
        "outputId": "2e89d9d0-6134-4639-c6f4-3dae8dc3915f"
      },
      "execution_count": null,
      "outputs": [
        {
          "output_type": "stream",
          "name": "stdout",
          "text": [
            "True\n",
            "False\n",
            "False\n",
            "True\n",
            "False\n",
            "True\n"
          ]
        }
      ]
    },
    {
      "cell_type": "markdown",
      "source": [
        "**What about logical operators?**\n",
        "\n",
        "Logical operators are used to evaluate if certain logical conditions are met based on combinations of true and/or false conditions."
      ],
      "metadata": {
        "id": "z7uaFZjVAwdm"
      }
    },
    {
      "cell_type": "code",
      "source": [
        "a = True\n",
        "b = False\n",
        "\n",
        "# And: returns true if both a and b are true, false otherwise\n",
        "print(a and b)\n",
        "\n",
        "# Or: returns true if either a or b (or both) are true, false otherwise\n",
        "print(a or b)\n",
        "\n",
        "# Not: returns the opposite of a\n",
        "print(not a)"
      ],
      "metadata": {
        "colab": {
          "base_uri": "https://localhost:8080/"
        },
        "id": "SR-hvl-iBCxO",
        "outputId": "0f8fde7f-2b00-437b-e55c-3d3443a7d852"
      },
      "execution_count": null,
      "outputs": [
        {
          "output_type": "stream",
          "name": "stdout",
          "text": [
            "False\n",
            "True\n",
            "False\n"
          ]
        }
      ]
    },
    {
      "cell_type": "markdown",
      "source": [
        "**What if you need to do something multiple times?**\n",
        "\n",
        "If you would like to repeat a process multiple times, you need to use some sort of loop. There are two basic options. The first of these is a for loop:"
      ],
      "metadata": {
        "id": "djQYNwJbK_dO"
      }
    },
    {
      "cell_type": "code",
      "source": [
        "# A for loop which iterates from 0 to 4\n",
        "for step in range(5):\n",
        "  print(step)\n"
      ],
      "metadata": {
        "colab": {
          "base_uri": "https://localhost:8080/"
        },
        "id": "ppXnRe8dLMTI",
        "outputId": "00421ed4-15a0-44f9-c1d6-bff39a73ed42"
      },
      "execution_count": null,
      "outputs": [
        {
          "output_type": "stream",
          "name": "stdout",
          "text": [
            "0\n",
            "1\n",
            "2\n",
            "3\n",
            "4\n"
          ]
        }
      ]
    },
    {
      "cell_type": "markdown",
      "source": [
        "This kind of loop takes the variable which is named after the keyword \"for\" and sets it equal to each element of the object specified after the keyword \"in\". In this case, that object is a list of the integers between 0 and 5, not including 5 (which is produced by the range() function)."
      ],
      "metadata": {
        "id": "eFzhFED8LZDI"
      }
    },
    {
      "cell_type": "markdown",
      "source": [
        "The other option is a while loop:"
      ],
      "metadata": {
        "id": "lhRXQsdBMXMk"
      }
    },
    {
      "cell_type": "code",
      "source": [
        "# Initialize the variable count\n",
        "count = 0\n",
        "\n",
        "# Execute the code over and over until count >= 5\n",
        "while count < 5:\n",
        "  print(\"Count: \", count)\n",
        "  # Increment the value of count\n",
        "  count += 1"
      ],
      "metadata": {
        "colab": {
          "base_uri": "https://localhost:8080/"
        },
        "id": "eyrD6gYAMccx",
        "outputId": "9de5f2fc-2499-4119-8907-33a53e70f326"
      },
      "execution_count": null,
      "outputs": [
        {
          "output_type": "stream",
          "name": "stdout",
          "text": [
            "Count:  0\n",
            "Count:  1\n",
            "Count:  2\n",
            "Count:  3\n",
            "Count:  4\n"
          ]
        }
      ]
    },
    {
      "cell_type": "markdown",
      "source": [
        "The while loop above does basically the same thing as the for loop we looked at. But, you can also make a while loop which executes an unpredictable number of times:"
      ],
      "metadata": {
        "id": "xKN0kNPdNFz7"
      }
    },
    {
      "cell_type": "code",
      "source": [
        "num = 0\n",
        "\n",
        "while num != 10:\n",
        "  print(\"The number is: \", num)\n",
        "  num = int(input(\"Enter a new number or 10 to quit: \"))\n"
      ],
      "metadata": {
        "colab": {
          "base_uri": "https://localhost:8080/"
        },
        "id": "t-1aezceNOMf",
        "outputId": "8b4c50d8-de5f-4594-a684-54b4bbdadc1a"
      },
      "execution_count": null,
      "outputs": [
        {
          "name": "stdout",
          "output_type": "stream",
          "text": [
            "The number is:  0\n",
            "Enter a new number or 10 to quit: 5\n",
            "The number is:  5\n",
            "Enter a new number or 10 to quit: 7\n",
            "The number is:  7\n",
            "Enter a new number or 10 to quit: 9\n",
            "The number is:  9\n",
            "Enter a new number or 10 to quit: 11\n",
            "The number is:  11\n",
            "Enter a new number or 10 to quit: 13\n",
            "The number is:  13\n",
            "Enter a new number or 10 to quit: 10\n"
          ]
        }
      ]
    },
    {
      "cell_type": "markdown",
      "source": [
        "**My program is getting kind of big... how do I divide it into different sections?**\n",
        "\n",
        "Instead of writing your program in one large block, you can break it into chunks called functions which perform smaller tasks which you can string together to accomplish your goal. This can make your code easier to read, write, and understand.\n",
        "\n",
        "Functions can have inputs and outputs of almost any data type."
      ],
      "metadata": {
        "id": "ynn5JCcQ83Wt"
      }
    },
    {
      "cell_type": "code",
      "source": [
        "# Definining a function with an input \"n\"\n",
        "def factorial(n):\n",
        "    result = 1\n",
        "    for i in range(1, n + 1):\n",
        "        result *= i\n",
        "    # A return statement tells the computer what value should be sent back to\n",
        "    # wherever the function was called from.\n",
        "    return result\n",
        "\n",
        "# This calls the \"factorial\" function and stores whatever gets returned in the\n",
        "# variable \"result\".\n",
        "result = factorial(5)\n",
        "\n",
        "# Print the result to the user.\n",
        "print(\"Factorial of 5 is:\", result)\n"
      ],
      "metadata": {
        "colab": {
          "base_uri": "https://localhost:8080/"
        },
        "id": "DjLy7YML9Xhd",
        "outputId": "ca50c44e-67b8-476d-9a4e-588fbeb2ad1f"
      },
      "execution_count": null,
      "outputs": [
        {
          "output_type": "stream",
          "name": "stdout",
          "text": [
            "Factorial of 5 is: 120\n"
          ]
        }
      ]
    },
    {
      "cell_type": "markdown",
      "source": [
        "You can also use functions to incorporate **recursion** into your code. This is when a function calls itself. It can get complicated to understand, but is often the most efficient way to solve a problem.\n",
        "\n",
        "Specifically, it is useful if you have a task that can be broken down into smaller, similar tasks. Instead of solving each small task independently, you solve one small task and delegate the rest to the same function. This process continues until the smallest, simplest task is solved directly, and then the solutions are combined to solve the original, larger problem.\n",
        "\n",
        "A classic example is calculating the factorial of a number. To find the factorial of 5, you can break it down into multiplying 5 by the factorial of 4, which is then broken down into multiplying 4 by the factorial of 3, and so on, until you reach the factorial of 1 (which is 1). Then, you combine these results to get the factorial of 5: 5 * 4 * 3 * 2 * 1.\n",
        "\n",
        "Recursion can be a powerful and elegant way to solve certain problems, but it's important to define a base case (the simplest problem that can be solved directly) to prevent infinite recursion and ensure that the function eventually terminates."
      ],
      "metadata": {
        "id": "SCOFioSP92D6"
      }
    },
    {
      "cell_type": "code",
      "source": [
        "# Defining a recursive function with an input \"n\"\n",
        "def factorial(n):\n",
        "    # This is the \"base\" condition where the recursion stops.\n",
        "    if n == 0:\n",
        "        return 1\n",
        "    # This is where where the function calls itself, making it recursive.\n",
        "    else:\n",
        "        return n * factorial(n - 1)\n",
        "\n",
        "# Example usage:\n",
        "result = factorial(5)\n",
        "\n",
        "# Print the result to the user.\n",
        "print(\"Factorial of 5 is:\", result)\n"
      ],
      "metadata": {
        "colab": {
          "base_uri": "https://localhost:8080/"
        },
        "id": "Qf3x0sOb-LZ2",
        "outputId": "21a01b15-13e6-43fc-b7c8-e54e03f37d80"
      },
      "execution_count": null,
      "outputs": [
        {
          "output_type": "stream",
          "name": "stdout",
          "text": [
            "Factorial of 5 is: 120\n"
          ]
        }
      ]
    },
    {
      "cell_type": "markdown",
      "source": [
        "# Intro to Pandas\n",
        "Pandas is an open-source library in Python which is very convenient for working with data.\n",
        "\n",
        "(Fun fact: Pandas was created in 2008 by a guy named Wes McKinney who was working at AQR Capital Management)\n",
        "\n",
        "**What are the advantages of Pandas?**\n",
        "\n",
        "- Fast and efficient\n",
        "- Can pull together data from different files easily\n",
        "- Flexibly reshapes and pivots data sets\n",
        "- Can handle time series\n",
        "\n",
        "**Setting up Pandas**\n",
        "To install Pandas on your computer manually, you will need to run the command \"pip install pandas\" (without the quotation marks) in the command window from the same folder as your python-pip file.\n",
        "\n",
        "But, since we're using Colab, we can just import it. A lot of IDEs (including PyCharm) will also automate this process for you."
      ],
      "metadata": {
        "id": "bdIVkHJvNljd"
      }
    },
    {
      "cell_type": "code",
      "source": [
        "# Import the Pandas library and give it the nickname pd\n",
        "import pandas as pd"
      ],
      "metadata": {
        "id": "yCsgKf95O7Iu"
      },
      "execution_count": null,
      "outputs": []
    },
    {
      "cell_type": "markdown",
      "source": [
        "You don't have to use the nickname (also called an alias), but it makes it a bit shorter to write out each time.\n",
        "\n",
        "**Pandas data structures**\n",
        "\n",
        "**Series:** a one-dimensional labeled array which can hold any type of data. It has axis labels called indexes and basically acts like a column in an Excel sheet. You can import data from a variety of file types (CSV, Excel, SQL, etc.) into a series.\n",
        "\n",
        "Creating a series:"
      ],
      "metadata": {
        "id": "Kw4SCpTTPyGv"
      }
    },
    {
      "cell_type": "code",
      "source": [
        "import numpy as np\n",
        "\n",
        "# Create an empty series\n",
        "ser = pd.Series()\n",
        "print(\"Empty Pandas series: \", ser)\n",
        "\n",
        "# Create a simple array\n",
        "data = np.array(['e', 'c', 'o', 'n'])\n",
        "\n",
        "# Put the array into a series\n",
        "ser = pd.Series(data)\n",
        "\n",
        "# The \\n here is a \"newline\" character which tells the computer to put a line\n",
        "# break wherever it is placed in the output.\n",
        "print(\"Panda series with data: \\n\", ser)"
      ],
      "metadata": {
        "colab": {
          "base_uri": "https://localhost:8080/"
        },
        "id": "NfCePFM1QnPx",
        "outputId": "d467929a-1350-49d1-c2eb-909b8e10f6af"
      },
      "execution_count": null,
      "outputs": [
        {
          "output_type": "stream",
          "name": "stdout",
          "text": [
            "Empty Pandas series:  Series([], dtype: float64)\n",
            "Panda series with data: \n",
            " 0    e\n",
            "1    c\n",
            "2    o\n",
            "3    n\n",
            "dtype: object\n"
          ]
        },
        {
          "output_type": "stream",
          "name": "stderr",
          "text": [
            "<ipython-input-16-1366f1e86655>:4: FutureWarning: The default dtype for empty Series will be 'object' instead of 'float64' in a future version. Specify a dtype explicitly to silence this warning.\n",
            "  ser = pd.Series()\n"
          ]
        }
      ]
    },
    {
      "cell_type": "markdown",
      "source": [
        "**Data frame:** is a two-dimensional tabular data structure which can change size and hold a wide variety of data types at once.\n",
        "\n",
        "Creating a data frame:"
      ],
      "metadata": {
        "id": "IAf1NtiRRycR"
      }
    },
    {
      "cell_type": "code",
      "source": [
        "# Calling the DataFrame function to make a data frame\n",
        "df = pd.DataFrame()\n",
        "print(df)\n",
        "\n",
        "# Making a list of strings\n",
        "lst = ['Econ', 'is', 'the', 'best', 'major']\n",
        "\n",
        "# Turn the list into a DataFrame\n",
        "df = pd.DataFrame(lst)\n",
        "print(df)"
      ],
      "metadata": {
        "colab": {
          "base_uri": "https://localhost:8080/"
        },
        "id": "Y8lZp6kwSJw1",
        "outputId": "dee46a04-edac-4eb5-dc15-b2ad73cbf88d"
      },
      "execution_count": null,
      "outputs": [
        {
          "output_type": "stream",
          "name": "stdout",
          "text": [
            "Empty DataFrame\n",
            "Columns: []\n",
            "Index: []\n",
            "       0\n",
            "0   Econ\n",
            "1     is\n",
            "2    the\n",
            "3   best\n",
            "4  major\n"
          ]
        }
      ]
    },
    {
      "cell_type": "markdown",
      "source": [
        "# Resources for additional exploration\n",
        "\n",
        "[Google's Python Class](https://developers.google.com/edu/python)\n",
        "\n",
        "[Introduction to Computer Science and Programming in Python (YouTube/MIT OCW) ](https://youtube.com/playlist?list=PLUl4u3cNGP63WbdFxL8giv4yhgdMGaZNA&si=pFWYe08E0h0hxVs0)\n",
        "\n",
        "[Pandas user guide](https://pandas.pydata.org/docs/user_guide/10min.html)\n",
        "\n",
        "[Codecademy: Introduction to Pandas and NumPy](https://www.codecademy.com/article/introduction-to-numpy-and-pandas)"
      ],
      "metadata": {
        "id": "iu81UvZUTUJY"
      }
    }
  ]
}